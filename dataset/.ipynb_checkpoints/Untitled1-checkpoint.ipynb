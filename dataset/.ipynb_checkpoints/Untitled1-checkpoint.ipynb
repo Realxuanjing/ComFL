{
 "cells": [
  {
   "cell_type": "code",
   "execution_count": 1,
   "id": "00681c56-900c-4406-88d0-5d19dcbe8079",
   "metadata": {},
   "outputs": [],
   "source": [
    "import os\n",
    "import glob\n",
    "from torch.utils.data import Dataset, DataLoader  \n",
    "from torchvision.transforms import transforms\n",
    "from PIL import Image \n",
    "import torch\n",
    "import csv\n",
    "import random"
   ]
  },
  {
   "cell_type": "code",
   "execution_count": 2,
   "id": "a3fe36cd-67e9-4c89-b103-2a35b418f2c4",
   "metadata": {},
   "outputs": [
    {
     "name": "stdout",
     "output_type": "stream",
     "text": [
      ".ipynb_checkpoints\n",
      "cat\n",
      "dog\n",
      "images.csv\n"
     ]
    }
   ],
   "source": [
    "file_path='./cat_dog_train'\n",
    "for name in os.listdir(file_path):\n",
    "    print(name)"
   ]
  },
  {
   "cell_type": "code",
   "execution_count": 11,
   "id": "3156290a-c712-4779-8f42-1565e49df370",
   "metadata": {},
   "outputs": [
    {
     "name": "stdout",
     "output_type": "stream",
     "text": [
      ".ipynb_checkpoints\n",
      "{'empty': 0, 'occupied': 1, '.ipynb_checkpoints': None}\n",
      "cat\n",
      "{'empty': 0, 'occupied': 1, '.ipynb_checkpoints': None, 'cat': None}\n",
      "dog\n",
      "{'empty': 0, 'occupied': 1, '.ipynb_checkpoints': None, 'cat': None, 'dog': None}\n",
      "images.csv\n"
     ]
    }
   ],
   "source": [
    "name2label = {'empty': 0, 'occupied': 1} \n",
    "for name in sorted(os.listdir(os.path.join(file_path))):\n",
    "    print(name)\n",
    "    # 判断是否为一个目录\n",
    "    if not os.path.isdir(os.path.join(file_path, name)):\n",
    "        continue\n",
    "    name2label[name] = name2label.get(name)           # 将类别名称转换为对应编号\n",
    "    print(name2label[name])\n",
    "    print(name2label)\n"
   ]
  },
  {
   "cell_type": "code",
   "execution_count": null,
   "id": "4eaeb366-8ce6-4ef9-8a01-4ff3b169455a",
   "metadata": {},
   "outputs": [],
   "source": []
  }
 ],
 "metadata": {
  "kernelspec": {
   "display_name": "Python 3 (ipykernel)",
   "language": "python",
   "name": "python3"
  },
  "language_info": {
   "codemirror_mode": {
    "name": "ipython",
    "version": 3
   },
   "file_extension": ".py",
   "mimetype": "text/x-python",
   "name": "python",
   "nbconvert_exporter": "python",
   "pygments_lexer": "ipython3",
   "version": "3.8.10"
  }
 },
 "nbformat": 4,
 "nbformat_minor": 5
}
